{
 "cells": [
  {
   "cell_type": "code",
   "execution_count": 1,
   "metadata": {},
   "outputs": [],
   "source": [
    "# Import libraries\n",
    "from dotenv import load_dotenv\n",
    "from langchain_community.document_loaders.blob_loaders.youtube_audio import YoutubeAudioLoader\n",
    "from langchain_community.document_loaders.generic import GenericLoader\n",
    "from langchain_community.document_loaders.parsers.audio import OpenAIWhisperParserLocal\n",
    "import torch\n",
    "from transformers import WhisperProcessor\n",
    "from tqdm import tqdm\n",
    "from langchain.chains import RetrievalQA\n",
    "from langchain_community.vectorstores import Chroma\n",
    "from langchain_openai import ChatOpenAI\n",
    "from langchain_huggingface import HuggingFaceEmbeddings\n",
    "from langchain_text_splitters import RecursiveCharacterTextSplitter"
   ]
  },
  {
   "cell_type": "code",
   "execution_count": 2,
   "metadata": {},
   "outputs": [
    {
     "data": {
      "text/plain": [
       "True"
      ]
     },
     "execution_count": 2,
     "metadata": {},
     "output_type": "execute_result"
    }
   ],
   "source": [
    "load_dotenv()"
   ]
  },
  {
   "cell_type": "code",
   "execution_count": 3,
   "metadata": {},
   "outputs": [],
   "source": [
    "save_dir = \"Downloads/YouTube\""
   ]
  },
  {
   "cell_type": "code",
   "execution_count": 4,
   "metadata": {},
   "outputs": [],
   "source": [
    "# Dr. Huberman dopamine videos\n",
    "urls = [\"https://www.youtube.com/watch?v=lIo9FcrljDk\", \"https://www.youtube.com/watch?v=Se151brgGSM\"]"
   ]
  },
  {
   "cell_type": "code",
   "execution_count": 5,
   "metadata": {},
   "outputs": [
    {
     "name": "stdout",
     "output_type": "stream",
     "text": [
      "Using the following model:  openai/whisper-medium\n"
     ]
    }
   ],
   "source": [
    "# Initialize WhisperProcessor for forced decoder IDs\n",
    "processor = WhisperProcessor.from_pretrained(\"openai/whisper-medium\")\n",
    "forced_decoder_ids = processor.get_decoder_prompt_ids(language=\"en\", task=\"transcribe\")\n",
    "\n",
    "# Initialize the parser\n",
    "parser = OpenAIWhisperParserLocal(\n",
    "    device=\"cuda\" if torch.cuda.is_available() else \"cpu\",\n",
    "    lang_model=\"openai/whisper-medium\",\n",
    "    forced_decoder_ids=forced_decoder_ids,\n",
    "    batch_size=8,\n",
    "    chunk_length=30\n",
    ")\n",
    "\n",
    "# Initialize the audio loader\n",
    "audio_loader = YoutubeAudioLoader(urls, save_dir)"
   ]
  },
  {
   "cell_type": "code",
   "execution_count": null,
   "metadata": {},
   "outputs": [
    {
     "name": "stderr",
     "output_type": "stream",
     "text": [
      "Loading YouTube Audio:   0%|                                                                                                | 0/2 [00:00<?, ?video/s]"
     ]
    },
    {
     "name": "stdout",
     "output_type": "stream",
     "text": [
      "[youtube] Extracting URL: https://www.youtube.com/watch?v=lIo9FcrljDk\n",
      "[youtube] lIo9FcrljDk: Downloading webpage\n",
      "[youtube] lIo9FcrljDk: Downloading ios player API JSON\n",
      "[youtube] lIo9FcrljDk: Downloading mweb player API JSON\n",
      "[youtube] lIo9FcrljDk: Downloading m3u8 information\n",
      "[info] lIo9FcrljDk: Downloading 1 format(s): 140\n",
      "[download] Destination: Downloads\\YouTube\\Essentials： Master Your Sleep & Be More Alert When Awake.m4a\n",
      "\n",
      "[FixupM4a] Correcting container of \"Downloads\\YouTube\\Essentials： Master Your Sleep & Be More Alert When Awake.m4a\"\n",
      "[ExtractAudio] Not converting audio Downloads\\YouTube\\Essentials： Master Your Sleep & Be More Alert When Awake.m4a; file is already in target format m4a\n",
      "Transcribing part Downloads\\YouTube\\Controlling Your Dopamine For Motivation, Focus & Satisfaction.m4a!\n"
     ]
    },
    {
     "name": "stderr",
     "output_type": "stream",
     "text": [
      "C:\\Users\\ADMIN\\.virtualenvs\\RAG_techniques-v6hd6_KO\\lib\\site-packages\\transformers\\models\\whisper\\generation_whisper.py:509: FutureWarning: The input name `inputs` is deprecated. Please make sure to use `input_features` instead.\n",
      "  warnings.warn(\n",
      "Due to a bug fix in https://github.com/huggingface/transformers/pull/28687 transcription using a multilingual Whisper will default to language detection followed by transcription instead of translation to English.This might be a breaking change for your use case. If you want to instead always translate your audio to English, make sure to pass `language='en'`.\n"
     ]
    }
   ],
   "source": [
    "# Load and parse the documents \n",
    "docs = []\n",
    "\n",
    "for url in tqdm(urls, desc=\"Loading YouTube Audio\", unit=\"video\"):\n",
    "    audio_loader.urls = [url]\n",
    "    loader = GenericLoader(blob_loader=audio_loader, blob_parser=parser)\n",
    "    docs.extend(loader.load())"
   ]
  },
  {
   "cell_type": "code",
   "execution_count": null,
   "metadata": {},
   "outputs": [],
   "source": [
    "docs[0].page_content[0:100]"
   ]
  },
  {
   "cell_type": "code",
   "execution_count": null,
   "metadata": {},
   "outputs": [],
   "source": [
    "# Combine documents\n",
    "combined_docs = [doc.page_content for doc in docs]\n",
    "text = \" \".join(combined_docs)"
   ]
  },
  {
   "cell_type": "code",
   "execution_count": null,
   "metadata": {},
   "outputs": [],
   "source": [
    "# Split them\n",
    "text_splitter = RecursiveCharacterTextSplitter(chunk_size=800, chunk_overlap=50)\n",
    "splits = text_splitter.split_text(text)"
   ]
  },
  {
   "cell_type": "code",
   "execution_count": null,
   "metadata": {},
   "outputs": [],
   "source": [
    "# Build an index\n",
    "embeddings = HuggingFaceEmbeddings(model_name=\"sentence-transformers/all-MiniLM-L6-v2\")\n",
    "vectordb = Chroma.from_texts(splits, embeddings)"
   ]
  },
  {
   "cell_type": "code",
   "execution_count": null,
   "metadata": {},
   "outputs": [],
   "source": [
    "# Build a QA chain\n",
    "qa_chain = RetrievalQA.from_chain_type(\n",
    "    llm=ChatOpenAI(model=\"gpt-4o-mini\", temperature=0),\n",
    "    chain_type=\"stuff\",\n",
    "    retriever=vectordb.as_retriever(),\n",
    ")"
   ]
  },
  {
   "cell_type": "code",
   "execution_count": null,
   "metadata": {},
   "outputs": [],
   "source": []
  }
 ],
 "metadata": {
  "kernelspec": {
   "display_name": "Python 3 (ipykernel)",
   "language": "python",
   "name": "python3"
  },
  "language_info": {
   "codemirror_mode": {
    "name": "ipython",
    "version": 3
   },
   "file_extension": ".py",
   "mimetype": "text/x-python",
   "name": "python",
   "nbconvert_exporter": "python",
   "pygments_lexer": "ipython3",
   "version": "3.10.11"
  }
 },
 "nbformat": 4,
 "nbformat_minor": 4
}
